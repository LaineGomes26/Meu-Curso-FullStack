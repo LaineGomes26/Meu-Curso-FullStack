{
 "cells": [
  {
   "cell_type": "code",
   "execution_count": null,
   "metadata": {},
   "outputs": [],
   "source": [
    "#1. Escreva um programa que peça dois números ao usúario e diga qual é o maior.\n",
    "num1 = float(input(\"Digite o primeiro número: \"))\n",
    "num2 = float(input(\"Digite o segundo número: \"))\n",
    "if num1 > num2:\n",
    "    maior = num1\n",
    "else:\n",
    "    maior = num2\n",
    "    \n",
    "print(f\"O maior número é: {maior}\")"
   ]
  },
  {
   "cell_type": "code",
   "execution_count": 1,
   "metadata": {},
   "outputs": [
    {
     "name": "stdout",
     "output_type": "stream",
     "text": [
      "O maior número é: 6.0\n",
      "O menor número é: 2.0\n"
     ]
    }
   ],
   "source": [
    "#2. Crie um programa que leia três números e diga qual é o maior e qual é o menor. Faça uso do comando \"max\" e \"min\" , pesquise sobre eles.\n",
    "num1 = float(input(\"Digite o primeiro número: \"))\n",
    "num2 = float(input(\"Digite o segundo número: \"))\n",
    "num3 = float(input(\"Digite o terceiro número: \"))\n",
    "maior = max(num1, num2, num3)\n",
    "menor = min(num1, num2, num3)\n",
    "print(f\"O maior número é: {maior}\")\n",
    "print(f\"O menor número é: {menor}\")"
   ]
  },
  {
   "cell_type": "code",
   "execution_count": 2,
   "metadata": {},
   "outputs": [
    {
     "name": "stdout",
     "output_type": "stream",
     "text": [
      "A letra 'l' é uma consoante.\n"
     ]
    }
   ],
   "source": [
    "#3. Escreva um programa que peça ao usuário uma letra e verifique  se é uma vogal ou consoante. Crie uma única strig com as vogai e faça uso do \"if letra in vogais\".\n",
    "vogais = \"aeiouAEIOU\"\n",
    "letra = input(\"Digite uma letra: \")\n",
    "if letra in vogais:\n",
    "    print(f\"A letra '{letra}' é uma vogal.\")\n",
    "else:\n",
    "    print(f\"A letra '{letra}' é uma consoante.\")\n",
    "    "
   ]
  },
  {
   "cell_type": "code",
   "execution_count": 5,
   "metadata": {},
   "outputs": [
    {
     "name": "stdout",
     "output_type": "stream",
     "text": [
      "O aluno foi reprovado.\n"
     ]
    }
   ],
   "source": [
    "#4. Faça um programa que peça uma nota de 0 a 10 e mostre se o aluno foi aprovado (nota maior ou igual a 6) ou reprovado (nota menor que 6).\n",
    "nota = float(input(\"Digite a nota do aluno (de 0 a 10): \"))\n",
    "if nota >= 6:\n",
    "    print(\"O aluno foi aprovado!\")\n",
    "else:\n",
    "    print(\"O aluno foi reprovado.\")"
   ]
  },
  {
   "cell_type": "code",
   "execution_count": 6,
   "metadata": {},
   "outputs": [
    {
     "name": "stdout",
     "output_type": "stream",
     "text": [
      "Tabuada do 7:\n",
      "7 x 1 = 7\n",
      "7 x 2 = 14\n",
      "7 x 3 = 21\n",
      "7 x 4 = 28\n",
      "7 x 5 = 35\n",
      "7 x 6 = 42\n",
      "7 x 7 = 49\n",
      "7 x 8 = 56\n",
      "7 x 9 = 63\n",
      "7 x 10 = 70\n"
     ]
    }
   ],
   "source": [
    "#5. Crie um programa que peça um número ao usúario e mostre a tabuada desse número de 1 a 10.\n",
    "numero = int(input(\"Digite um número para ver sua tabuada: \"))\n",
    "print(f\"Tabuada do {numero}:\")\n",
    "for i in range(1, 11):\n",
    "    resultado = numero * i\n",
    "    print(f\"{numero} x {i} = {resultado}\")"
   ]
  }
 ],
 "metadata": {
  "kernelspec": {
   "display_name": "Python 3",
   "language": "python",
   "name": "python3"
  },
  "language_info": {
   "codemirror_mode": {
    "name": "ipython",
    "version": 3
   },
   "file_extension": ".py",
   "mimetype": "text/x-python",
   "name": "python",
   "nbconvert_exporter": "python",
   "pygments_lexer": "ipython3",
   "version": "3.12.3"
  }
 },
 "nbformat": 4,
 "nbformat_minor": 2
}
