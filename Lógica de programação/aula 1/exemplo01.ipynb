{
 "cells": [
  {
   "cell_type": "code",
   "execution_count": 15,
   "metadata": {},
   "outputs": [],
   "source": [
    "# Variáveis\n",
    "\n",
    "\n",
    "inteiro = 123          # Tipo: int\n",
    "texto = \"Laine Gomes\"  # Tipo: str\n",
    "real = 10.5            # Tipo: float\n",
    "boleano = True         # Tipo: bool"
   ]
  },
  {
   "cell_type": "code",
   "execution_count": 16,
   "metadata": {},
   "outputs": [
    {
     "name": "stdout",
     "output_type": "stream",
     "text": [
      "Olá Laine Gomes\n",
      "Olá Laine Gomes, você tem 26 anos\n"
     ]
    }
   ],
   "source": [
    "# Print formatado\n",
    "nome = \"Laine Gomes\"\n",
    "idade = 26\n",
    "\n",
    "print(f\"Olá {nome}\") \n",
    "print(f\"Olá {nome}, você tem {idade} anos\")"
   ]
  },
  {
   "cell_type": "code",
   "execution_count": 27,
   "metadata": {},
   "outputs": [
    {
     "name": "stdout",
     "output_type": "stream",
     "text": [
      "<class 'str'>\n",
      "<class 'int'>\n",
      "<class 'float'>\n"
     ]
    }
   ],
   "source": [
    "# Conversão a variaveis\n",
    "\n",
    "x = str(123)     # Inserindo número porém convertendo para texto\n",
    "print(type(x))\n",
    "\n",
    "# aqui defini a variavel y\n",
    "y = \n",
    "\n",
    "\n",
    "\n",
    " int(\"123\")   # Inserindo texto porém convertendo para número inteiro\n",
    "print(type(y))\n",
    "\n",
    "z = float(\"12.3\") # Inserindo texto porém convertendo para número racionais(fracionados)\n",
    "print(type(z))\n",
    "\n",
    "\n"
   ]
  }
 ],
 "metadata": {
  "kernelspec": {
   "display_name": "Python 3",
   "language": "python",
   "name": "python3"
  },
  "language_info": {
   "codemirror_mode": {
    "name": "ipython",
    "version": 3
   },
   "file_extension": ".py",
   "mimetype": "text/x-python",
   "name": "python",
   "nbconvert_exporter": "python",
   "pygments_lexer": "ipython3",
   "version": "3.12.3"
  }
 },
 "nbformat": 4,
 "nbformat_minor": 2
}
