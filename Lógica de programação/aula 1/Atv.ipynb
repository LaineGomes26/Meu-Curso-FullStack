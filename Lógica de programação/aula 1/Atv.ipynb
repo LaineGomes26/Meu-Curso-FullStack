{
 "cells": [
  {
   "cell_type": "code",
   "execution_count": 1,
   "metadata": {},
   "outputs": [
    {
     "name": "stdout",
     "output_type": "stream",
     "text": [
      "Voce esta em idade ativa\n"
     ]
    }
   ],
   "source": [
    "#Q1\n",
    "idade = int(input(\"Digite sua idade: \"))\n",
    "if 18 <= idade < 65:\n",
    "    print(\"Voce esta em idade ativa\")\n",
    "else:\n",
    "    print(\"Voce nao esta em idade ativa\")\n",
    "\n"
   ]
  },
  {
   "cell_type": "code",
   "execution_count": 4,
   "metadata": {},
   "outputs": [
    {
     "name": "stdout",
     "output_type": "stream",
     "text": [
      "o numero 10 nao atende as condicoes\n"
     ]
    }
   ],
   "source": [
    "#Q2\n",
    "numero = int(input(\"Digite um numero: \"))\n",
    "if numero %2 == 0 and numero > 10:\n",
    "      print(\"O numero\" , numero, \"é par e maior que 10\")\n",
    "else:\n",
    "      print(\"o numero\" , numero, \"nao atende as condicoes\")"
   ]
  },
  {
   "cell_type": "code",
   "execution_count": 5,
   "metadata": {},
   "outputs": [
    {
     "name": "stdout",
     "output_type": "stream",
     "text": [
      "Aprovado\n"
     ]
    }
   ],
   "source": [
    "#Q3\n",
    "nota = float(input(\"Digite sua nota: \"))\n",
    "if nota >= 7 and nota <= 10:\n",
    "    print(\"Aprovado\")\n",
    "elif nota >= 5 and nota < 7:\n",
    "    print(\"Recuperacao\")\n",
    "else:\n",
    "    print(\"Reprovado\")"
   ]
  },
  {
   "cell_type": "code",
   "execution_count": 6,
   "metadata": {},
   "outputs": [
    {
     "name": "stdout",
     "output_type": "stream",
     "text": [
      "O numero 26.0 esta no intervalo\n"
     ]
    }
   ],
   "source": [
    "#Q4\n",
    "numero = float(input(\"Digite um numero: \"))\n",
    "if numero > 0 and numero < 100:\n",
    "    print(\"O numero\" , numero, \"esta no intervalo\")\n",
    "else:\n",
    "    print(\"O numero\" , numero, \"nao esta no intervalo\")"
   ]
  },
  {
   "cell_type": "code",
   "execution_count": 11,
   "metadata": {},
   "outputs": [
    {
     "name": "stdout",
     "output_type": "stream",
     "text": [
      "login bem-sucedido\n"
     ]
    }
   ],
   "source": [
    "#Q5\n",
    "nome_usuario = input(\"Digite seu nome de usuario: \")\n",
    "senha = input(\"digite sua senha: \")\n",
    "if nome_usuario == \"admin\" and senha== \"1234\":\n",
    "    print(\"login bem-sucedido\")\n",
    "else: \n",
    "    print(\"Nome de usuario ou senha incorretos\")\n"
   ]
  },
  {
   "cell_type": "code",
   "execution_count": 1,
   "metadata": {},
   "outputs": [
    {
     "name": "stdout",
     "output_type": "stream",
     "text": [
      "temperatura normal\n"
     ]
    }
   ],
   "source": [
    "#Q6\n",
    "temperatura = float(input(\"Digite a temperatura atual: \"))\n",
    "if temperatura > 30 or temperatura < 10: \n",
    "    print(\"Atencao temperatura extrema\")\n",
    "else:\n",
    "    print(\"temperatura normal\")"
   ]
  },
  {
   "cell_type": "code",
   "execution_count": 2,
   "metadata": {},
   "outputs": [
    {
     "name": "stdout",
     "output_type": "stream",
     "text": [
      "Você pode votar\n"
     ]
    }
   ],
   "source": [
    "#Q7\n",
    "idade = int(input(\"Digite sua idade: \"))\n",
    "possui_titulo = input(\"Você possui titulo de eleitor? (sim/não):\")\n",
    "\n",
    "if idade >= 18 or possui_titulo:\n",
    "    print(\"Você pode votar\")\n",
    "else:\n",
    "    print(\"Você não pode votar\")"
   ]
  }
 ],
 "metadata": {
  "kernelspec": {
   "display_name": "Python 3",
   "language": "python",
   "name": "python3"
  },
  "language_info": {
   "codemirror_mode": {
    "name": "ipython",
    "version": 3
   },
   "file_extension": ".py",
   "mimetype": "text/x-python",
   "name": "python",
   "nbconvert_exporter": "python",
   "pygments_lexer": "ipython3",
   "version": "3.12.3"
  }
 },
 "nbformat": 4,
 "nbformat_minor": 2
}
