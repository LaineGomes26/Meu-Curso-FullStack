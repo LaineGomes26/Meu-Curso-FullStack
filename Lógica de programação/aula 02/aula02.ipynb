{
 "cells": [
  {
   "cell_type": "code",
   "execution_count": null,
   "metadata": {},
   "outputs": [
    {
     "name": "stdout",
     "output_type": "stream",
     "text": [
      "Laine\n"
     ]
    }
   ],
   "source": [
    "\n",
    "\n",
    "#Faça um programa que peça o usúario  digitar o seu nome e depois mostre-o.\n",
    "nome = input(\"Digite seu nome:\")\n",
    "print(nome)\n",
    "\n"
   ]
  },
  {
   "cell_type": "code",
   "execution_count": 1,
   "metadata": {},
   "outputs": [
    {
     "name": "stdout",
     "output_type": "stream",
     "text": [
      "Laine\n",
      "Olá Laine,você tem 26 anos\n"
     ]
    }
   ],
   "source": [
    "#Escreva um código que solicite ao usúario que infome o nome e depois a idade, por fim, monte uma frase que será mostrada desta maneira: \"Seu nome é \"X e sua idade é X\".\n",
    "nome = input('Digite seu nome:')\n",
    "print(nome)\n",
    "idade = int(input(\"Digite sua idade:\"))\n",
    "print(f\"Olá {nome},você tem {idade} anos\")"
   ]
  }
 ],
 "metadata": {
  "kernelspec": {
   "display_name": "Python 3",
   "language": "python",
   "name": "python3"
  },
  "language_info": {
   "codemirror_mode": {
    "name": "ipython",
    "version": 3
   },
   "file_extension": ".py",
   "mimetype": "text/x-python",
   "name": "python",
   "nbconvert_exporter": "python",
   "pygments_lexer": "ipython3",
   "version": "3.12.3"
  }
 },
 "nbformat": 4,
 "nbformat_minor": 2
}
